{
 "cells": [
  {
   "cell_type": "code",
   "execution_count": 1,
   "metadata": {},
   "outputs": [
    {
     "data": {
      "text/plain": [
       "org.apache.spark.SparkContext@5b457f00"
      ]
     },
     "execution_count": 1,
     "metadata": {},
     "output_type": "execute_result"
    }
   ],
   "source": [
    "sc"
   ]
  },
  {
   "cell_type": "code",
   "execution_count": 2,
   "metadata": {},
   "outputs": [
    {
     "data": {
      "text/plain": [
       "org.apache.spark.sql.SparkSession@2403b62b"
      ]
     },
     "execution_count": 2,
     "metadata": {},
     "output_type": "execute_result"
    }
   ],
   "source": [
    "spark"
   ]
  },
  {
   "cell_type": "markdown",
   "metadata": {},
   "source": [
    "### Read File Into DataFrame:"
   ]
  },
  {
   "cell_type": "code",
   "execution_count": 14,
   "metadata": {},
   "outputs": [
    {
     "data": {
      "text/plain": [
       "transactionsDF = [_c0: string, _c1: string ... 3 more fields]\n",
       "newColumns = List(TransID, CustID, TransTotal, TransNumItems, TransDesc)\n",
       "temp1 = [TransID: string, CustID: string ... 3 more fields]\n",
       "TransactionsDF = [TransID: int, CustID: int ... 3 more fields]\n"
      ]
     },
     "metadata": {},
     "output_type": "display_data"
    },
    {
     "data": {
      "text/plain": [
       "[TransID: int, CustID: int ... 3 more fields]"
      ]
     },
     "execution_count": 14,
     "metadata": {},
     "output_type": "execute_result"
    }
   ],
   "source": [
    "// please change the path\n",
    "val transactionsDF = spark.read.format(\"csv\").option(\"sep\", \",\")\n",
    ".option(\"header\", \"false\")\n",
    ".load(\"/home/leo/IdeaProjects/DS503/Project3/input/Transactions\")\n",
    "val newColumns = Seq(\"TransID\",\"CustID\",\"TransTotal\",\"TransNumItems\",\"TransDesc\")\n",
    "val temp1 = transactionsDF.toDF(newColumns:_*)\n",
    "// change column type of the dataframe\n",
    "val TransactionsDF = temp1.withColumn(\"TransID\", temp1(\"TransID\").cast(org.apache.spark.sql.types.IntegerType))\n",
    ".withColumn(\"CustID\", temp1(\"CustID\").cast(org.apache.spark.sql.types.IntegerType))\n",
    ".withColumn(\"TransTotal\", temp1(\"TransTotal\").cast(org.apache.spark.sql.types.FloatType))\n",
    ".withColumn(\"TransNumItems\", temp1(\"TransNumItems\").cast(org.apache.spark.sql.types.IntegerType))\n"
   ]
  },
  {
   "cell_type": "code",
   "execution_count": 15,
   "metadata": {},
   "outputs": [
    {
     "name": "stdout",
     "output_type": "stream",
     "text": [
      "+-------+------+----------+-------------+--------------------+\n",
      "|TransID|CustID|TransTotal|TransNumItems|           TransDesc|\n",
      "+-------+------+----------+-------------+--------------------+\n",
      "|      1|  2389|     553.9|            9|rodcvpyykzsyxcmfu...|\n",
      "|      2|  3878|    844.42|            8|arxtfzjjtjtzixqla...|\n",
      "|      3|   934|    448.95|           10|mguwsuolmcjowxgqw...|\n",
      "|      4|  3965|    759.41|           10|fpqvaqdbhbkncasos...|\n",
      "|      5|   347|    383.84|            1|ybupgovpohccpounl...|\n",
      "|      6|  4447|    703.49|            9|gqlhoktdrftllpkei...|\n",
      "|      7|  1283|    299.19|            3|lenqjmcthfmoqcuxo...|\n",
      "|      8|   326|     574.2|            4|kpvfrbtrcddqkrtnl...|\n",
      "|      9|  3344|    300.12|            9|bdiveswzqnzxyzmqi...|\n",
      "|     10|  1771|    417.52|            6|iigaecdlsrxawqdlr...|\n",
      "|     11|  1346|    203.95|           10|rvxdgdvpokltpzjng...|\n",
      "|     12|  3009|    211.65|            8|zdlxoifokcdofnitq...|\n",
      "|     13|  3881|    904.15|            3|gnwdwwqnxgcncaeht...|\n",
      "|     14|  4745|    558.42|           10|kebilrahqorgotclf...|\n",
      "|     15|  1838|    525.31|           10|jjlbaiixzzeeayepp...|\n",
      "|     16|  3145|     911.2|            8|xuyozkjkqmitoadmb...|\n",
      "|     17|   228|     82.89|            8|mqkldijtjgougeipy...|\n",
      "|     18|  3972|    900.48|            8|daabzzttuqouqgjvt...|\n",
      "|     19|   821|    200.12|            6|bxxaaefxgvizrbrzl...|\n",
      "|     20|  3333|    918.91|            5|wfnaoxpbyhtmgosvb...|\n",
      "+-------+------+----------+-------------+--------------------+\n",
      "only showing top 20 rows\n",
      "\n"
     ]
    }
   ],
   "source": [
    "// have a glance at the dataframe contents\n",
    "TransactionsDF.show"
   ]
  },
  {
   "cell_type": "code",
   "execution_count": 28,
   "metadata": {
    "scrolled": false
   },
   "outputs": [
    {
     "name": "stdout",
     "output_type": "stream",
     "text": [
      "root\n",
      " |-- TransID: integer (nullable = true)\n",
      " |-- CustID: integer (nullable = true)\n",
      " |-- TransTotal: float (nullable = true)\n",
      " |-- TransNumItems: integer (nullable = true)\n",
      " |-- TransDesc: string (nullable = true)\n",
      "\n"
     ]
    }
   ],
   "source": [
    "// have a glance at the TransactionDataFrame's structure\n",
    "TransactionsDF.printSchema"
   ]
  },
  {
   "cell_type": "markdown",
   "metadata": {},
   "source": [
    "### (1) T1:"
   ]
  },
  {
   "cell_type": "code",
   "execution_count": 17,
   "metadata": {},
   "outputs": [
    {
     "name": "stdout",
     "output_type": "stream",
     "text": [
      "+-------+------+----------+-------------+--------------------+\n",
      "|TransID|CustID|TransTotal|TransNumItems|           TransDesc|\n",
      "+-------+------+----------+-------------+--------------------+\n",
      "|     17|   228|     82.89|            8|mqkldijtjgougeipy...|\n",
      "|     22|   447|     53.95|            7|lhhwrgogvmphxcfaq...|\n",
      "|     24|  2945|    119.94|            8|ppkigyjgilifpsvygfay|\n",
      "|     28|    61|     37.37|            9|ddbuaibfjuheszaoo...|\n",
      "|     29|  3006|     118.5|            3|yxroivlfotgjhpdzt...|\n",
      "|     30|  1578|     84.44|            6|vpaixlmkfgwqazzcm...|\n",
      "|     33|  3454|    131.14|            3|ktxsxrkryffbunfrx...|\n",
      "|     36|  2584|    164.14|            5|eyzdajsjdeyjgkpya...|\n",
      "|     64|  2254|     17.18|            9|iygiegrsthngipurf...|\n",
      "|     66|   918|    178.16|            6|kbiyuexdqocyaecsl...|\n",
      "|     67|  2438|    139.37|            9|kkxjyloksdnmoavwj...|\n",
      "|     68|  2972|     85.38|            1|snhabhejjasozsmej...|\n",
      "|     73|  3134|    149.78|            6|ovastzyjpdhwwkihv...|\n",
      "|     88|  4879|    131.88|            1|ehmtdathbsofptqea...|\n",
      "|     93|  1433|     90.14|           10|qpkngbfsgfqwltluw...|\n",
      "|     97|   947|    141.36|            2|aztrjvdocabbeyaxk...|\n",
      "|     98|    27|     80.37|            8|usfshaxsapjazeoop...|\n",
      "|    101|   628|     88.49|            9|njduwwmjbfisuuvaj...|\n",
      "|    107|  4913|     97.03|            1|iyvaylujxsqsrerdi...|\n",
      "|    110|  1658|      56.7|            6|gwzotepwdvhmpnplc...|\n",
      "+-------+------+----------+-------------+--------------------+\n",
      "only showing top 20 rows\n",
      "\n"
     ]
    },
    {
     "data": {
      "text/plain": [
       "result1 = [TransID: int, CustID: int ... 3 more fields]\n"
      ]
     },
     "metadata": {},
     "output_type": "display_data"
    },
    {
     "data": {
      "text/plain": [
       "[TransID: int, CustID: int ... 3 more fields]"
      ]
     },
     "execution_count": 17,
     "metadata": {},
     "output_type": "execute_result"
    }
   ],
   "source": [
    "val result1 = TransactionsDF.filter(\"TransTotal < 200\")\n",
    "result1.show"
   ]
  },
  {
   "cell_type": "markdown",
   "metadata": {},
   "source": [
    "### (2) T2:"
   ]
  },
  {
   "cell_type": "code",
   "execution_count": 20,
   "metadata": {},
   "outputs": [
    {
     "data": {
      "text/plain": [
       "summary1 = [TransNumItems: int, sum(TransTotal): double ... 3 more fields]\n"
      ]
     },
     "metadata": {},
     "output_type": "display_data"
    },
    {
     "data": {
      "text/plain": [
       "[TransNumItems: int, sum(TransTotal): double ... 3 more fields]"
      ]
     },
     "execution_count": 20,
     "metadata": {},
     "output_type": "execute_result"
    }
   ],
   "source": [
    "result1.createOrReplaceTempView(\"Transactions\")\n",
    "val summary1=spark.sql(\"Select TransNumItems,sum(TransTotal),avg(TransTotal),min(TransTotal),max(TransTotal) from Transactions group by TransNumItems\")"
   ]
  },
  {
   "cell_type": "markdown",
   "metadata": {},
   "source": [
    "### (3):"
   ]
  },
  {
   "cell_type": "code",
   "execution_count": 21,
   "metadata": {},
   "outputs": [
    {
     "name": "stdout",
     "output_type": "stream",
     "text": [
      "+-------------+------------------+------------------+---------------+---------------+\n",
      "|TransNumItems|   sum(TransTotal)|   avg(TransTotal)|min(TransTotal)|max(TransTotal)|\n",
      "+-------------+------------------+------------------+---------------+---------------+\n",
      "|            1|1027715.4804172516|105.89546423670805|          10.04|         199.96|\n",
      "|            6|1003173.5199861526|  104.923493356987|          10.01|         199.99|\n",
      "|            3|1007514.1301336288|104.45973355454939|           10.0|         199.99|\n",
      "|            5| 1010294.029876709|106.05648014662071|           10.0|          199.9|\n",
      "|            9|1001570.7800970078|105.28442973793837|          10.02|         199.99|\n",
      "|            4| 986586.6897745132|104.67763286732236|          10.02|         199.97|\n",
      "|            8|  985512.149766922|104.33116131345776|          10.01|         199.98|\n",
      "|            7|1008955.4899578094|105.78271020736102|          10.08|         199.99|\n",
      "|           10|1011548.5397663116|105.03047863838766|          10.02|         199.98|\n",
      "|            2|1020072.0702409744|105.02131887583387|          10.01|         199.99|\n",
      "+-------------+------------------+------------------+---------------+---------------+\n",
      "\n"
     ]
    }
   ],
   "source": [
    "summary1.show"
   ]
  },
  {
   "cell_type": "markdown",
   "metadata": {},
   "source": [
    "### (4) T3:"
   ]
  },
  {
   "cell_type": "code",
   "execution_count": 22,
   "metadata": {},
   "outputs": [
    {
     "data": {
      "text/plain": [
       "summary2 = [CustID: int, count1: bigint]\n"
      ]
     },
     "metadata": {},
     "output_type": "display_data"
    },
    {
     "data": {
      "text/plain": [
       "[CustID: int, count1: bigint]"
      ]
     },
     "execution_count": 22,
     "metadata": {},
     "output_type": "execute_result"
    }
   ],
   "source": [
    "val summary2=spark.sql(\"SELECT CustID,COUNT(CustID) as count1 FROM Transactions Group By CustID\")"
   ]
  },
  {
   "cell_type": "markdown",
   "metadata": {},
   "source": [
    "### (5) T4:"
   ]
  },
  {
   "cell_type": "code",
   "execution_count": 23,
   "metadata": {},
   "outputs": [
    {
     "data": {
      "text/plain": [
       "result2 = [TransID: int, CustID: int ... 3 more fields]\n"
      ]
     },
     "metadata": {},
     "output_type": "display_data"
    },
    {
     "data": {
      "text/plain": [
       "[TransID: int, CustID: int ... 3 more fields]"
      ]
     },
     "execution_count": 23,
     "metadata": {},
     "output_type": "execute_result"
    }
   ],
   "source": [
    "val result2 = TransactionsDF.filter(\"TransTotal < 600\")"
   ]
  },
  {
   "cell_type": "markdown",
   "metadata": {},
   "source": [
    "### (6) T5:"
   ]
  },
  {
   "cell_type": "code",
   "execution_count": 24,
   "metadata": {},
   "outputs": [
    {
     "data": {
      "text/plain": [
       "summary3 = [CustID: int, count2: bigint]\n"
      ]
     },
     "metadata": {},
     "output_type": "display_data"
    },
    {
     "data": {
      "text/plain": [
       "[CustID: int, count2: bigint]"
      ]
     },
     "execution_count": 24,
     "metadata": {},
     "output_type": "execute_result"
    }
   ],
   "source": [
    "result2.createOrReplaceTempView(\"Transactions2\")\n",
    "val summary3=spark.sql(\"SELECT CustID,COUNT(CustID) as count2 FROM Transactions2 Group By CustID\")"
   ]
  },
  {
   "cell_type": "markdown",
   "metadata": {},
   "source": [
    "### (7) T6:"
   ]
  },
  {
   "cell_type": "code",
   "execution_count": 25,
   "metadata": {},
   "outputs": [
    {
     "data": {
      "text/plain": [
       "summary4 = [CustID: int]\n"
      ]
     },
     "metadata": {},
     "output_type": "display_data"
    },
    {
     "data": {
      "text/plain": [
       "[CustID: int]"
      ]
     },
     "execution_count": 25,
     "metadata": {},
     "output_type": "execute_result"
    }
   ],
   "source": [
    "summary2.createOrReplaceTempView(\"TC1\")\n",
    "summary3.createOrReplaceTempView(\"TC2\")\n",
    "val summary4=spark.sql(\"SELECT TC1.CustID FROM TC1,TC2 WHERE TC1.CustID=Tc2.CustID and TC1.count1>(5*TC2.count2)\")"
   ]
  },
  {
   "cell_type": "markdown",
   "metadata": {},
   "source": [
    "### (8):"
   ]
  },
  {
   "cell_type": "code",
   "execution_count": 26,
   "metadata": {},
   "outputs": [
    {
     "name": "stdout",
     "output_type": "stream",
     "text": [
      "+------+\n",
      "|CustID|\n",
      "+------+\n",
      "+------+\n",
      "\n"
     ]
    }
   ],
   "source": [
    "summary4.show"
   ]
  }
 ],
 "metadata": {
  "kernelspec": {
   "display_name": "Apache Toree - Scala",
   "language": "scala",
   "name": "apache_toree_scala"
  },
  "language_info": {
   "codemirror_mode": "text/x-scala",
   "file_extension": ".scala",
   "mimetype": "text/x-scala",
   "name": "scala",
   "pygments_lexer": "scala",
   "version": "2.11.12"
  }
 },
 "nbformat": 4,
 "nbformat_minor": 2
}
