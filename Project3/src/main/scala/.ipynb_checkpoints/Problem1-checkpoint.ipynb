{
 "cells": [
  {
   "cell_type": "code",
   "execution_count": 1,
   "metadata": {},
   "outputs": [
    {
     "data": {
      "text/plain": [
       "org.apache.spark.SparkContext@2efd4928"
      ]
     },
     "execution_count": 1,
     "metadata": {},
     "output_type": "execute_result"
    }
   ],
   "source": [
    "sc"
   ]
  },
  {
   "cell_type": "code",
   "execution_count": 2,
   "metadata": {},
   "outputs": [
    {
     "data": {
      "text/plain": [
       "org.apache.spark.sql.SparkSession@328f6ec3"
      ]
     },
     "execution_count": 2,
     "metadata": {},
     "output_type": "execute_result"
    }
   ],
   "source": [
    "spark"
   ]
  },
  {
   "cell_type": "markdown",
   "metadata": {},
   "source": [
    "### Read File Into DataFrame:"
   ]
  },
  {
   "cell_type": "code",
   "execution_count": 3,
   "metadata": {},
   "outputs": [
    {
     "data": {
      "text/plain": [
       "transactionsDF = [_c0: string, _c1: string ... 3 more fields]\n",
       "newColumns = List(TransID, CustID, TransTotal, TransNumItems, TransDesc)\n",
       "temp1 = [TransID: string, CustID: string ... 3 more fields]\n",
       "TransactionsDF = [TransID: int, CustID: int ... 3 more fields]\n"
      ]
     },
     "metadata": {},
     "output_type": "display_data"
    },
    {
     "data": {
      "text/plain": [
       "[TransID: int, CustID: int ... 3 more fields]"
      ]
     },
     "execution_count": 3,
     "metadata": {},
     "output_type": "execute_result"
    }
   ],
   "source": [
    "// please change the path\n",
    "val transactionsDF = spark.read.format(\"csv\").option(\"sep\", \",\")\n",
    ".option(\"header\", \"false\")\n",
    ".load(\"/home/leo/IdeaProjects/DS503/Project3/input/Transactions\")\n",
    "val newColumns = Seq(\"TransID\",\"CustID\",\"TransTotal\",\"TransNumItems\",\"TransDesc\")\n",
    "val temp1 = transactionsDF.toDF(newColumns:_*)\n",
    "// change column type of the dataframe\n",
    "val TransactionsDF = temp1.withColumn(\"TransID\", temp1(\"TransID\").cast(org.apache.spark.sql.types.IntegerType))\n",
    ".withColumn(\"CustID\", temp1(\"CustID\").cast(org.apache.spark.sql.types.IntegerType))\n",
    ".withColumn(\"TransTotal\", temp1(\"TransTotal\").cast(org.apache.spark.sql.types.FloatType))\n",
    ".withColumn(\"TransNumItems\", temp1(\"TransNumItems\").cast(org.apache.spark.sql.types.IntegerType))\n"
   ]
  },
  {
   "cell_type": "code",
   "execution_count": 4,
   "metadata": {},
   "outputs": [
    {
     "name": "stdout",
     "output_type": "stream",
     "text": [
      "+-------+------+----------+-------------+--------------------+\n",
      "|TransID|CustID|TransTotal|TransNumItems|           TransDesc|\n",
      "+-------+------+----------+-------------+--------------------+\n",
      "|      1|  2389|     553.9|            9|rodcvpyykzsyxcmfu...|\n",
      "|      2|  3878|    844.42|            8|arxtfzjjtjtzixqla...|\n",
      "|      3|   934|    448.95|           10|mguwsuolmcjowxgqw...|\n",
      "|      4|  3965|    759.41|           10|fpqvaqdbhbkncasos...|\n",
      "|      5|   347|    383.84|            1|ybupgovpohccpounl...|\n",
      "|      6|  4447|    703.49|            9|gqlhoktdrftllpkei...|\n",
      "|      7|  1283|    299.19|            3|lenqjmcthfmoqcuxo...|\n",
      "|      8|   326|     574.2|            4|kpvfrbtrcddqkrtnl...|\n",
      "|      9|  3344|    300.12|            9|bdiveswzqnzxyzmqi...|\n",
      "|     10|  1771|    417.52|            6|iigaecdlsrxawqdlr...|\n",
      "|     11|  1346|    203.95|           10|rvxdgdvpokltpzjng...|\n",
      "|     12|  3009|    211.65|            8|zdlxoifokcdofnitq...|\n",
      "|     13|  3881|    904.15|            3|gnwdwwqnxgcncaeht...|\n",
      "|     14|  4745|    558.42|           10|kebilrahqorgotclf...|\n",
      "|     15|  1838|    525.31|           10|jjlbaiixzzeeayepp...|\n",
      "|     16|  3145|     911.2|            8|xuyozkjkqmitoadmb...|\n",
      "|     17|   228|     82.89|            8|mqkldijtjgougeipy...|\n",
      "|     18|  3972|    900.48|            8|daabzzttuqouqgjvt...|\n",
      "|     19|   821|    200.12|            6|bxxaaefxgvizrbrzl...|\n",
      "|     20|  3333|    918.91|            5|wfnaoxpbyhtmgosvb...|\n",
      "+-------+------+----------+-------------+--------------------+\n",
      "only showing top 20 rows\n",
      "\n"
     ]
    }
   ],
   "source": [
    "// have a glance at the dataframe contents\n",
    "TransactionsDF.show"
   ]
  },
  {
   "cell_type": "code",
   "execution_count": 5,
   "metadata": {
    "scrolled": false
   },
   "outputs": [
    {
     "name": "stdout",
     "output_type": "stream",
     "text": [
      "root\n",
      " |-- TransID: integer (nullable = true)\n",
      " |-- CustID: integer (nullable = true)\n",
      " |-- TransTotal: float (nullable = true)\n",
      " |-- TransNumItems: integer (nullable = true)\n",
      " |-- TransDesc: string (nullable = true)\n",
      "\n"
     ]
    }
   ],
   "source": [
    "// have a glance at the TransactionDataFrame's structure\n",
    "TransactionsDF.printSchema"
   ]
  },
  {
   "cell_type": "markdown",
   "metadata": {},
   "source": [
    "### (1) T1:"
   ]
  },
  {
   "cell_type": "code",
   "execution_count": 6,
   "metadata": {},
   "outputs": [
    {
     "name": "stdout",
     "output_type": "stream",
     "text": [
      "+-------+------+----------+-------------+--------------------+\n",
      "|TransID|CustID|TransTotal|TransNumItems|           TransDesc|\n",
      "+-------+------+----------+-------------+--------------------+\n",
      "|      1|  2389|     553.9|            9|rodcvpyykzsyxcmfu...|\n",
      "|      2|  3878|    844.42|            8|arxtfzjjtjtzixqla...|\n",
      "|      3|   934|    448.95|           10|mguwsuolmcjowxgqw...|\n",
      "|      4|  3965|    759.41|           10|fpqvaqdbhbkncasos...|\n",
      "|      5|   347|    383.84|            1|ybupgovpohccpounl...|\n",
      "|      6|  4447|    703.49|            9|gqlhoktdrftllpkei...|\n",
      "|      7|  1283|    299.19|            3|lenqjmcthfmoqcuxo...|\n",
      "|      8|   326|     574.2|            4|kpvfrbtrcddqkrtnl...|\n",
      "|      9|  3344|    300.12|            9|bdiveswzqnzxyzmqi...|\n",
      "|     10|  1771|    417.52|            6|iigaecdlsrxawqdlr...|\n",
      "|     11|  1346|    203.95|           10|rvxdgdvpokltpzjng...|\n",
      "|     12|  3009|    211.65|            8|zdlxoifokcdofnitq...|\n",
      "|     13|  3881|    904.15|            3|gnwdwwqnxgcncaeht...|\n",
      "|     14|  4745|    558.42|           10|kebilrahqorgotclf...|\n",
      "|     15|  1838|    525.31|           10|jjlbaiixzzeeayepp...|\n",
      "|     16|  3145|     911.2|            8|xuyozkjkqmitoadmb...|\n",
      "|     18|  3972|    900.48|            8|daabzzttuqouqgjvt...|\n",
      "|     19|   821|    200.12|            6|bxxaaefxgvizrbrzl...|\n",
      "|     20|  3333|    918.91|            5|wfnaoxpbyhtmgosvb...|\n",
      "|     21|  1223|    518.25|            2|npwhlqgsvtxtrkzry...|\n",
      "+-------+------+----------+-------------+--------------------+\n",
      "only showing top 20 rows\n",
      "\n"
     ]
    },
    {
     "data": {
      "text/plain": [
       "result1 = [TransID: int, CustID: int ... 3 more fields]\n"
      ]
     },
     "metadata": {},
     "output_type": "display_data"
    },
    {
     "data": {
      "text/plain": [
       "[TransID: int, CustID: int ... 3 more fields]"
      ]
     },
     "execution_count": 6,
     "metadata": {},
     "output_type": "execute_result"
    }
   ],
   "source": [
    "val result1 = TransactionsDF.filter(\"TransTotal >= 200\")\n",
    "result1.show"
   ]
  },
  {
   "cell_type": "markdown",
   "metadata": {},
   "source": [
    "### (2) T2:"
   ]
  },
  {
   "cell_type": "code",
   "execution_count": 7,
   "metadata": {},
   "outputs": [
    {
     "data": {
      "text/plain": [
       "summary1 = [TransNumItems: int, sum(TransTotal): double ... 3 more fields]\n"
      ]
     },
     "metadata": {},
     "output_type": "display_data"
    },
    {
     "data": {
      "text/plain": [
       "[TransNumItems: int, sum(TransTotal): double ... 3 more fields]"
      ]
     },
     "execution_count": 7,
     "metadata": {},
     "output_type": "execute_result"
    }
   ],
   "source": [
    "result1.createOrReplaceTempView(\"Transactions\")\n",
    "val summary1=spark.sql(\"Select TransNumItems,sum(TransTotal),avg(TransTotal),min(TransTotal),max(TransTotal) from Transactions group by TransNumItems\")"
   ]
  },
  {
   "cell_type": "markdown",
   "metadata": {},
   "source": [
    "### (3):"
   ]
  },
  {
   "cell_type": "code",
   "execution_count": 8,
   "metadata": {},
   "outputs": [
    {
     "name": "stdout",
     "output_type": "stream",
     "text": [
      "+-------------+--------------------+-----------------+---------------+---------------+\n",
      "|TransNumItems|     sum(TransTotal)|  avg(TransTotal)|min(TransTotal)|max(TransTotal)|\n",
      "+-------------+--------------------+-----------------+---------------+---------------+\n",
      "|            1| 2.411747113102722E7|599.5642294848284|         200.01|         999.98|\n",
      "|            6|2.4228478623138428E7|600.3835614704108|         200.02|         1000.0|\n",
      "|            3| 2.411609182826233E7|597.3321731915471|          200.0|         999.94|\n",
      "|            5|2.4356179616455078E7|598.6672799246652|         200.01|         1000.0|\n",
      "|            9|2.4168764228775024E7|598.7406289643518|         200.04|         999.98|\n",
      "|            4| 2.426231051916504E7|599.5282937350821|         200.01|         1000.0|\n",
      "|            8| 2.415729585119629E7|597.5978589747746|         200.02|         1000.0|\n",
      "|            7|2.4205503997314453E7|602.0670579373807|         200.02|         999.98|\n",
      "|           10|2.4460900304901123E7|602.1737599985506|          200.0|         1000.0|\n",
      "|            2|2.4332135858322144E7|599.6681747417721|          200.0|         999.96|\n",
      "+-------------+--------------------+-----------------+---------------+---------------+\n",
      "\n"
     ]
    }
   ],
   "source": [
    "summary1.show"
   ]
  },
  {
   "cell_type": "markdown",
   "metadata": {},
   "source": [
    "### (4) T3:"
   ]
  },
  {
   "cell_type": "code",
   "execution_count": 9,
   "metadata": {},
   "outputs": [
    {
     "data": {
      "text/plain": [
       "summary2 = [CustID: int, count1: bigint]\n"
      ]
     },
     "metadata": {},
     "output_type": "display_data"
    },
    {
     "data": {
      "text/plain": [
       "[CustID: int, count1: bigint]"
      ]
     },
     "execution_count": 9,
     "metadata": {},
     "output_type": "execute_result"
    }
   ],
   "source": [
    "val summary2=spark.sql(\"SELECT CustID,COUNT(CustID) as count1 FROM Transactions Group By CustID\")"
   ]
  },
  {
   "cell_type": "markdown",
   "metadata": {},
   "source": [
    "### (5) T4:"
   ]
  },
  {
   "cell_type": "code",
   "execution_count": 10,
   "metadata": {},
   "outputs": [
    {
     "data": {
      "text/plain": [
       "result2 = [TransID: int, CustID: int ... 3 more fields]\n"
      ]
     },
     "metadata": {},
     "output_type": "display_data"
    },
    {
     "data": {
      "text/plain": [
       "[TransID: int, CustID: int ... 3 more fields]"
      ]
     },
     "execution_count": 10,
     "metadata": {},
     "output_type": "execute_result"
    }
   ],
   "source": [
    "val result2 = TransactionsDF.filter(\"TransTotal < 600\")"
   ]
  },
  {
   "cell_type": "markdown",
   "metadata": {},
   "source": [
    "### (6) T5:"
   ]
  },
  {
   "cell_type": "code",
   "execution_count": 11,
   "metadata": {},
   "outputs": [
    {
     "data": {
      "text/plain": [
       "summary3 = [CustID: int, count2: bigint]\n"
      ]
     },
     "metadata": {},
     "output_type": "display_data"
    },
    {
     "data": {
      "text/plain": [
       "[CustID: int, count2: bigint]"
      ]
     },
     "execution_count": 11,
     "metadata": {},
     "output_type": "execute_result"
    }
   ],
   "source": [
    "result2.createOrReplaceTempView(\"Transactions2\")\n",
    "val summary3=spark.sql(\"SELECT CustID,COUNT(CustID) as count2 FROM Transactions2 Group By CustID\")"
   ]
  },
  {
   "cell_type": "markdown",
   "metadata": {},
   "source": [
    "### (7) T6:"
   ]
  },
  {
   "cell_type": "code",
   "execution_count": 12,
   "metadata": {},
   "outputs": [
    {
     "data": {
      "text/plain": [
       "summary4 = [CustID: int]\n"
      ]
     },
     "metadata": {},
     "output_type": "display_data"
    },
    {
     "data": {
      "text/plain": [
       "[CustID: int]"
      ]
     },
     "execution_count": 12,
     "metadata": {},
     "output_type": "execute_result"
    }
   ],
   "source": [
    "summary2.createOrReplaceTempView(\"TC1\")\n",
    "summary3.createOrReplaceTempView(\"TC2\")\n",
    "val summary4=spark.sql(\"SELECT TC1.CustID FROM TC1,TC2 WHERE TC1.CustID=Tc2.CustID and TC1.count1>(5*TC2.count2)\")"
   ]
  },
  {
   "cell_type": "markdown",
   "metadata": {},
   "source": [
    "### (8):"
   ]
  },
  {
   "cell_type": "code",
   "execution_count": 13,
   "metadata": {},
   "outputs": [
    {
     "name": "stdout",
     "output_type": "stream",
     "text": [
      "+------+\n",
      "|CustID|\n",
      "+------+\n",
      "+------+\n",
      "\n"
     ]
    }
   ],
   "source": [
    "summary4.show"
   ]
  },
  {
   "cell_type": "code",
   "execution_count": null,
   "metadata": {},
   "outputs": [],
   "source": []
  }
 ],
 "metadata": {
  "kernelspec": {
   "display_name": "Apache Toree - Scala",
   "language": "scala",
   "name": "apache_toree_scala"
  },
  "language_info": {
   "codemirror_mode": "text/x-scala",
   "file_extension": ".scala",
   "mimetype": "text/x-scala",
   "name": "scala",
   "pygments_lexer": "scala",
   "version": "2.11.12"
  }
 },
 "nbformat": 4,
 "nbformat_minor": 2
}
